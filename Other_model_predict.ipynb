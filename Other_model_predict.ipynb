{
 "cells": [
  {
   "cell_type": "markdown",
   "id": "6f2f80de",
   "metadata": {},
   "source": [
    "## DALEX"
   ]
  },
  {
   "cell_type": "markdown",
   "id": "bd7f5981",
   "metadata": {},
   "source": [
    "DALEX (независимый от модели язык для исследования и объяснения) является одним из немногих широко используемых фреймворков XAI, который пытается охватить большинство аспектов объяснимости. DALEX не зависит от модели и может предоставить некоторые метаданные о базовом наборе данных, чтобы придать некоторый контекст объяснению. Этот фреймворк дает вам представление о производительности модели и справедливости модели, а также обеспечивает объяснимость глобальной и локальной моделей."
   ]
  },
  {
   "cell_type": "code",
   "execution_count": 1,
   "id": "242de2bc",
   "metadata": {},
   "outputs": [
    {
     "name": "stdout",
     "output_type": "stream",
     "text": [
      "Requirement already satisfied: pandas in c:\\users\\1\\anaconda3\\lib\\site-packages (1.4.3)\n",
      "Requirement already satisfied: numpy in c:\\users\\1\\anaconda3\\lib\\site-packages (1.22.4)\n",
      "Collecting numpy\n",
      "  Using cached numpy-1.23.2-cp39-cp39-win_amd64.whl (14.7 MB)\n",
      "Requirement already satisfied: matplotlib in c:\\users\\1\\appdata\\roaming\\python\\python39\\site-packages (3.5.3)\n",
      "Requirement already satisfied: seaborn in c:\\users\\1\\anaconda3\\lib\\site-packages (0.11.2)\n",
      "Requirement already satisfied: scikit-learn in c:\\users\\1\\anaconda3\\lib\\site-packages (1.1.2)\n",
      "Requirement already satisfied: dalex in c:\\users\\1\\anaconda3\\lib\\site-packages (1.4.1)\n",
      "Requirement already satisfied: python-dateutil>=2.8.1 in c:\\users\\1\\anaconda3\\lib\\site-packages (from pandas) (2.8.2)\n",
      "Requirement already satisfied: pytz>=2020.1 in c:\\users\\1\\anaconda3\\lib\\site-packages (from pandas) (2021.3)\n",
      "Requirement already satisfied: packaging>=20.0 in c:\\users\\1\\anaconda3\\lib\\site-packages (from matplotlib) (21.3)\n",
      "Requirement already satisfied: fonttools>=4.22.0 in c:\\users\\1\\anaconda3\\lib\\site-packages (from matplotlib) (4.25.0)\n",
      "Requirement already satisfied: cycler>=0.10 in c:\\users\\1\\anaconda3\\lib\\site-packages (from matplotlib) (0.11.0)\n",
      "Requirement already satisfied: kiwisolver>=1.0.1 in c:\\users\\1\\anaconda3\\lib\\site-packages (from matplotlib) (1.3.2)\n",
      "Requirement already satisfied: pyparsing>=2.2.1 in c:\\users\\1\\anaconda3\\lib\\site-packages (from matplotlib) (3.0.4)\n",
      "Requirement already satisfied: pillow>=6.2.0 in c:\\users\\1\\anaconda3\\lib\\site-packages (from matplotlib) (9.0.1)\n",
      "Requirement already satisfied: scipy>=1.0 in c:\\users\\1\\anaconda3\\lib\\site-packages (from seaborn) (1.7.3)\n",
      "Requirement already satisfied: threadpoolctl>=2.0.0 in c:\\users\\1\\anaconda3\\lib\\site-packages (from scikit-learn) (2.2.0)\n",
      "Requirement already satisfied: joblib>=1.0.0 in c:\\users\\1\\anaconda3\\lib\\site-packages (from scikit-learn) (1.1.0)\n",
      "Requirement already satisfied: setuptools in c:\\users\\1\\anaconda3\\lib\\site-packages (from dalex) (61.2.0)\n",
      "Requirement already satisfied: tqdm>=4.48.2 in c:\\users\\1\\anaconda3\\lib\\site-packages (from dalex) (4.64.0)\n",
      "Requirement already satisfied: plotly>=4.12.0 in c:\\users\\1\\anaconda3\\lib\\site-packages (from dalex) (5.5.0)\n",
      "Requirement already satisfied: tenacity>=6.2.0 in c:\\users\\1\\anaconda3\\lib\\site-packages (from plotly>=4.12.0->dalex) (8.0.1)\n",
      "Requirement already satisfied: six in c:\\users\\1\\anaconda3\\lib\\site-packages (from plotly>=4.12.0->dalex) (1.16.0)\n",
      "Requirement already satisfied: colorama in c:\\users\\1\\anaconda3\\lib\\site-packages (from tqdm>=4.48.2->dalex) (0.4.4)\n"
     ]
    }
   ],
   "source": [
    "!pip install --upgrade pandas numpy matplotlib seaborn scikit-learn dalex"
   ]
  },
  {
   "cell_type": "code",
   "execution_count": 2,
   "id": "dfc37429",
   "metadata": {},
   "outputs": [],
   "source": [
    "import warnings\n",
    "warnings.filterwarnings('ignore')\n",
    "\n",
    "import pandas as pd\n",
    "pd.set_option('display.max_columns', None)\n",
    "\n",
    "import numpy as np\n",
    "\n",
    "import sklearn\n",
    "from sklearn import datasets\n",
    "from sklearn.model_selection import train_test_split\n",
    "from sklearn.ensemble import RandomForestRegressor\n",
    "from sklearn.metrics import mean_absolute_error, r2_score\n",
    "\n",
    "import dalex as dx \n",
    "\n",
    "import matplotlib.pyplot as plt\n",
    "import seaborn as sns\n",
    "\n",
    "from IPython import display\n",
    "\n",
    "np.random.seed(123)"
   ]
  },
  {
   "cell_type": "markdown",
   "id": "1d72b571",
   "metadata": {},
   "source": [
    "О данных"
   ]
  },
  {
   "cell_type": "markdown",
   "id": "26d6bf41",
   "metadata": {},
   "source": [
    "В этом уроке мы будем использовать набор данных для прогнозирования положения клуба FIFA, используемый в учебном пособии Explainerdashboard и в учебном пособии H2O AutoML Expainer. Но вместо того, чтобы использовать этот набор данных для прогнозирования положения конкретного клуба в лиге на основе способностей его игрока, мы попытаемся предсказать оценку игрока на основе его навыков и способностей. Итак, это будет проблема регрессии, и мы будем использовать DALEX для объяснения регрессионной модели ML."
   ]
  },
  {
   "cell_type": "code",
   "execution_count": null,
   "id": "2058dd5d",
   "metadata": {},
   "outputs": [],
   "source": [
    "# We will read the training data\n",
    "df_train = pd.read_csv('C:\\\\Users\\\\1\\\\Downloads\\\\fifa_league_21_train.csv')"
   ]
  },
  {
   "cell_type": "code",
   "execution_count": null,
   "id": "f0861a37",
   "metadata": {},
   "outputs": [],
   "source": [
    "df_train.head()"
   ]
  },
  {
   "cell_type": "code",
   "execution_count": null,
   "id": "ff450a26",
   "metadata": {},
   "outputs": [],
   "source": [
    "# Reading the dataset description\n",
    "with open('datasets/FIFA_Club_Position/data_description.txt') as f:\n",
    "    contents = f.read()\n",
    "    print(contents)"
   ]
  },
  {
   "cell_type": "code",
   "execution_count": 3,
   "id": "36c5389f",
   "metadata": {},
   "outputs": [
    {
     "ename": "NameError",
     "evalue": "name 'df_train' is not defined",
     "output_type": "error",
     "traceback": [
      "\u001b[1;31m---------------------------------------------------------------------------\u001b[0m",
      "\u001b[1;31mNameError\u001b[0m                                 Traceback (most recent call last)",
      "\u001b[1;32m~\\AppData\\Local\\Temp\\ipykernel_15408\\1451960210.py\u001b[0m in \u001b[0;36m<cell line: 2>\u001b[1;34m()\u001b[0m\n\u001b[0;32m      1\u001b[0m \u001b[1;31m# Check dataset dimensions\u001b[0m\u001b[1;33m\u001b[0m\u001b[1;33m\u001b[0m\u001b[0m\n\u001b[1;32m----> 2\u001b[1;33m \u001b[0mprint\u001b[0m\u001b[1;33m(\u001b[0m\u001b[0mdf_train\u001b[0m\u001b[1;33m.\u001b[0m\u001b[0mshape\u001b[0m\u001b[1;33m)\u001b[0m\u001b[1;33m\u001b[0m\u001b[1;33m\u001b[0m\u001b[0m\n\u001b[0m",
      "\u001b[1;31mNameError\u001b[0m: name 'df_train' is not defined"
     ]
    }
   ],
   "source": [
    "# Check dataset dimensions\n",
    "print(df_train.shape)"
   ]
  },
  {
   "cell_type": "code",
   "execution_count": null,
   "id": "15b00af3",
   "metadata": {},
   "outputs": [],
   "source": [
    "df_train.columns"
   ]
  },
  {
   "cell_type": "code",
   "execution_count": null,
   "id": "5f9348b6",
   "metadata": {},
   "outputs": [],
   "source": [
    "df_train.info()"
   ]
  },
  {
   "cell_type": "markdown",
   "id": "ee7e3c65",
   "metadata": {},
   "source": [
    "Как мы можем видеть, набор данных содержит около 81 характеристики, из которых входные значения мы сохраним только информацию о навыках и способностях игрока на разных игровых позициях, а также возраст игрока для прогнозирования оценки игрока. Возраст будет интересной особенностью, так как обычно молодые игроки имеют гораздо более высокую оценку из-за их растущего потенциала. Мы отбросим другие функции для этого конкретного анализа. Итак, давайте начнем!"
   ]
  },
  {
   "cell_type": "code",
   "execution_count": null,
   "id": "d7ff2a02",
   "metadata": {},
   "outputs": [],
   "source": [
    "features_to_drop = ['short_name', 'club_name', 'league_name', 'preferred_foot', 'wage_eur', 'club_position', 'position']\n",
    "target_variable = 'value_eur'"
   ]
  },
  {
   "cell_type": "code",
   "execution_count": null,
   "id": "3410082b",
   "metadata": {},
   "outputs": [],
   "source": [
    "df_train.drop(columns=features_to_drop, inplace=True)"
   ]
  },
  {
   "cell_type": "code",
   "execution_count": null,
   "id": "8120f868",
   "metadata": {},
   "outputs": [],
   "source": [
    "print(df_train.shape)"
   ]
  },
  {
   "cell_type": "code",
   "execution_count": null,
   "id": "977f98f0",
   "metadata": {},
   "outputs": [],
   "source": [
    "# Let's check missing values\n",
    "\n",
    "sns.displot(\n",
    "    data=df_train.isna().melt(value_name=\"missing\"),\n",
    "    y=\"variable\",\n",
    "    hue=\"missing\",\n",
    "    multiple=\"fill\",\n",
    "    height=10,\n",
    "    aspect=1.2\n",
    ")\n",
    "plt.show()"
   ]
  },
  {
   "cell_type": "markdown",
   "id": "d8fad8ad",
   "metadata": {},
   "source": [
    "Анализируя пропущенные значения, мы видим, что скорость вратарей имеет высокий процент пропущенных значений. Следовательно, мы также можем отказаться от этой функции. Но для других недостающих значений, связанных с темпом, стрельбой, передачей, дриблингом, защитой и физической подготовкой, в основном эти данные недоступны для вратарей. Итак, вместо того, чтобы отбрасывать записи, связанные с вратарями, мы сохраним постоянное значение 40 для всех вратарей, поскольку интуитивно думаем, что, поскольку эти вратари являются профессиональными игроками, почти у всех из них будет оценка не менее 40. В разделе value_eur отсутствует одно значение. Весьма возможно, что игрок решил уйти в отставку, и, следовательно, значение не присваивается. Итак, мы просто отбросим эту запись как выброшенную."
   ]
  },
  {
   "cell_type": "code",
   "execution_count": null,
   "id": "a3ffeea3",
   "metadata": {},
   "outputs": [],
   "source": [
    "# dropping the feature 'goalkeeping_speed'\n",
    "df_train.drop(columns=['goalkeeping_speed'], inplace=True)"
   ]
  },
  {
   "cell_type": "code",
   "execution_count": null,
   "id": "2a77c47e",
   "metadata": {},
   "outputs": [],
   "source": [
    "# data imputation for the features 'pace', 'shooting', 'passing', 'dribbling', 'defending' and 'physic' with a constant value of 40\n",
    "for features in ['pace', 'shooting', 'passing', 'dribbling', 'defending', 'physic']:\n",
    "    df_train[features].fillna(40, inplace=True)"
   ]
  },
  {
   "cell_type": "code",
   "execution_count": null,
   "id": "06fc39f1",
   "metadata": {},
   "outputs": [],
   "source": [
    "# Consider all other missing values as outliers, so just drop them\n",
    "df_train.dropna(inplace=True)"
   ]
  },
  {
   "cell_type": "code",
   "execution_count": null,
   "id": "416625f7",
   "metadata": {},
   "outputs": [],
   "source": [
    "# Let's separate the labels from training data\n",
    "labels = df_train[target_variable]\n",
    "df_train.drop(columns=[target_variable], inplace=True)"
   ]
  },
  {
   "cell_type": "code",
   "execution_count": null,
   "id": "875b9abb",
   "metadata": {},
   "outputs": [],
   "source": [
    "print(df_train.shape)"
   ]
  },
  {
   "cell_type": "code",
   "execution_count": null,
   "id": "1f4efc31",
   "metadata": {},
   "outputs": [],
   "source": [
    "df_train.info()"
   ]
  },
  {
   "cell_type": "code",
   "execution_count": null,
   "id": "59f93aa1",
   "metadata": {},
   "outputs": [],
   "source": [
    "df_train.describe()"
   ]
  },
  {
   "cell_type": "markdown",
   "id": "051fcd47",
   "metadata": {},
   "source": [
    "Training the model"
   ]
  },
  {
   "cell_type": "code",
   "execution_count": null,
   "id": "3b4f6bec",
   "metadata": {},
   "outputs": [],
   "source": [
    "x_train,x_valid,y_train,y_valid = train_test_split(df_train,labels,test_size=0.2,random_state=123)"
   ]
  },
  {
   "cell_type": "code",
   "execution_count": null,
   "id": "92d79f05",
   "metadata": {},
   "outputs": [],
   "source": [
    "model = RandomForestRegressor(n_estimators=790, min_samples_split = 3, random_state=123).fit(x_train, y_train)"
   ]
  },
  {
   "cell_type": "code",
   "execution_count": null,
   "id": "48571e4a",
   "metadata": {},
   "outputs": [],
   "source": [
    "y_pred = model.predict(x_valid)\n",
    "print('R^2 score is:')\n",
    "r2_score(y_valid, y_pred)"
   ]
  },
  {
   "cell_type": "code",
   "execution_count": null,
   "id": "f9daa823",
   "metadata": {},
   "outputs": [],
   "source": [
    "model.score(x_valid, y_valid) # 790 best so far, mss = 3 - 0.9364"
   ]
  },
  {
   "cell_type": "markdown",
   "id": "17331d6e",
   "metadata": {},
   "source": [
    "Model evaluation on unseen data"
   ]
  },
  {
   "cell_type": "code",
   "execution_count": null,
   "id": "5ae385d0",
   "metadata": {},
   "outputs": [],
   "source": [
    "df_test = pd.read_csv('datasets/fifa_league_22_test.csv')\n",
    "\n",
    "def predict_player_valuation(df_test, model, player_name):\n",
    "    '''\n",
    "    Predict club position from player quality\n",
    "    '''\n",
    "    \n",
    "    df_test = df_test[df_test['short_name'] == player_name]\n",
    "    display.display(df_test)\n",
    "    print(f'Original Valuation for the 2022-2023 season for {player_name} is EUR. {df_test[target_variable].values[0]}')\n",
    "    df_test.drop(columns=['short_name', \n",
    "                          'club_name', \n",
    "                          'league_name', \n",
    "                          'preferred_foot', \n",
    "                          'wage_eur', \n",
    "                          'club_position'], inplace=True)\n",
    "    df_test.drop(columns=['goalkeeping_speed'], inplace=True)\n",
    "    df_test.drop(columns=[target_variable], inplace=True)\n",
    "    for features in ['pace', 'shooting', 'passing', 'dribbling', 'defending', 'physic']:\n",
    "            df_test[features].fillna(40, inplace=True)\n",
    "    \n",
    "    pred = model.predict(df_test)\n",
    "    print(f'Predicted Valuation for the 2022-2023 season for {player_name} is EUR. {round(pred[0], 1)}')"
   ]
  },
  {
   "cell_type": "markdown",
   "id": "4c185496",
   "metadata": {},
   "source": [
    "Теперь давайте применим модель к молодому и многообещающему игроку Джейдону Санчо, который перешел в \"Манчестер Юнайтед\" из дортмундской \"Боруссии\" на сезон 2022-2023 годов за ошеломляющие 85 миллионов евро"
   ]
  },
  {
   "cell_type": "code",
   "execution_count": null,
   "id": "f3c54a8d",
   "metadata": {},
   "outputs": [],
   "source": [
    "predict_player_valuation(df_test, model, player_name = 'J. Sancho')"
   ]
  },
  {
   "cell_type": "markdown",
   "id": "65ab4612",
   "metadata": {},
   "source": [
    "Интересно, что модель была очень близка! Первоначальная оценка Jadon Sancho в евро составляла около 116 млн евро, но модель предсказала, что она составит 112,25 млн евро, что довольно близко! Теперь давайте попробуем DALEX для объяснения модели и расшифруем, почему предсказание модели было близким!"
   ]
  },
  {
   "cell_type": "markdown",
   "id": "8b5ad032",
   "metadata": {},
   "source": [
    "Модельный агностический язык для исследования и объяснения (DALEX) - это независимый от модели метод надежной объяснимости, используемый как для глобальных, так и для локальных объяснений. Взгляните на этот учебник по DALEX https://dalex.drwhy.ai/python-dalex-fifa.html для справки. Как указано в исходном репозитории проекта DALEX (https://github.com/ModelOriented/DALEX ), DALEX может решать различные аспекты объяснимости -\n",
    "\n",
    "Равномерное отклонение от моделей прогнозирования,\n",
    "надежная структура API (согласованная грамматика для анализа модели),\n",
    "локальное объяснение (объяснение на уровне прогнозирования),\n",
    "глобальное объяснение (объяснение на уровне модели),\n",
    "проверка предвзятости и справедливости,\n",
    "интерактивная визуализация (ARENA)."
   ]
  },
  {
   "cell_type": "markdown",
   "id": "f3fc773d",
   "metadata": {},
   "source": [
    "Теперь давайте начнем с создания нашего объяснителя модели DALEX."
   ]
  },
  {
   "cell_type": "code",
   "execution_count": null,
   "id": "d155ca69",
   "metadata": {},
   "outputs": [],
   "source": [
    "# Create DALEX Explainer object \n",
    "explainer = dx.Explainer(model, \n",
    "                         x_valid, y_valid, \n",
    "                         model_type = 'regression',\n",
    "                         label='Random Forest')"
   ]
  },
  {
   "cell_type": "markdown",
   "id": "6f78251d",
   "metadata": {},
   "source": [
    "Объект explainer предоставляет некоторые метаданные о обученной модели, чтобы задать контекст объяснения.\n",
    "\n",
    "Давайте начнем с объяснений на уровне модели. Получение предварительных знаний о производительности модели помогает установить правильные ожидания и, следовательно, может быть важным шагом для объяснения модели."
   ]
  },
  {
   "cell_type": "code",
   "execution_count": null,
   "id": "684f0a74",
   "metadata": {},
   "outputs": [],
   "source": [
    "model_performance = explainer.model_performance(\"regression\")\n",
    "display.display(model_performance.result)"
   ]
  },
  {
   "cell_type": "markdown",
   "id": "2903b8e2",
   "metadata": {},
   "source": [
    "Далее мы будем использовать DALEX, чтобы получить глобальное объяснение, визуализируя важность функции."
   ]
  },
  {
   "cell_type": "code",
   "execution_count": null,
   "id": "b29fd4a7",
   "metadata": {},
   "outputs": [],
   "source": [
    "# As shown in https://dalex.drwhy.ai/python-dalex-fifa.html, we will group the features for understanding the key feature contributions in specific areas\n",
    "variable_groups = {\n",
    "    'international_reputation' : ['international_reputation'],\n",
    "    'age': ['age'],\n",
    "    'attacking': ['attacking_crossing',\n",
    "       'attacking_finishing', 'attacking_heading_accuracy',\n",
    "       'attacking_short_passing', 'attacking_volleys'],\n",
    "    'skill': ['skill_dribbling', 'skill_moves',\n",
    "       'skill_curve', 'skill_fk_accuracy', 'skill_long_passing',\n",
    "       'skill_ball_control'],\n",
    "    'movement': ['movement_acceleration', 'movement_sprint_speed',\n",
    "       'movement_agility', 'movement_reactions', 'movement_balance'],\n",
    "    'power': ['power_shot_power', 'power_jumping', 'power_stamina', 'power_strength',\n",
    "       'power_long_shots'],\n",
    "    'mentality': ['mentality_aggression', 'mentality_interceptions',\n",
    "       'mentality_positioning', 'mentality_vision', 'mentality_penalties',\n",
    "       'mentality_composure'],\n",
    "    'defending': ['defending_marking_awareness', 'defending_standing_tackle',\n",
    "       'defending_sliding_tackle'],\n",
    "    'goalkeeping' : ['goalkeeping_diving',\n",
    "       'goalkeeping_handling', 'goalkeeping_kicking',\n",
    "       'goalkeeping_positioning', 'goalkeeping_reflexes'],\n",
    "    'abilities': ['overall', 'potential', 'pace', 'shooting', \n",
    "                  'passing','dribbling','defending','physic', 'weak_foot'],\n",
    "}"
   ]
  },
  {
   "cell_type": "code",
   "execution_count": null,
   "id": "32393571",
   "metadata": {},
   "outputs": [],
   "source": [
    "Var_Importance = explainer.model_parts(variable_groups=variable_groups, B=15, random_state=123)\n",
    "Var_Importance.plot(max_vars=10, \n",
    "                    rounding_function=np.rint, \n",
    "                    digits=None, \n",
    "                    vertical_spacing=0.15,\n",
    "                    title = 'Feature Importance' )"
   ]
  },
  {
   "cell_type": "markdown",
   "id": "8ffabe0b",
   "metadata": {},
   "source": [
    "Как мы можем видеть, характеристика способностей является наиболее важной характеристикой в соответствии с моделью прогнозирования оценки игрока. Аналогичным образом мы можем видеть важность других объектов в наборе данных в порядке от более высокой важности к более низкой важности.\n",
    "\n",
    "Далее мы будем использовать графики частичной зависимости, описанные в главе 2, для глобальных объяснений."
   ]
  },
  {
   "cell_type": "code",
   "execution_count": null,
   "id": "b3fca534",
   "metadata": {},
   "outputs": [],
   "source": [
    "pdp = explainer.model_profile(type = 'partial', N=800)\n",
    "\n",
    "pdp.plot(variables = ['age', 'potential'])"
   ]
  },
  {
   "cell_type": "markdown",
   "id": "6811f361",
   "metadata": {},
   "source": [
    "Другой глобальный подход к объяснению агрегированного эффекта каждого признака может быть получен с помощью накопленного профиля локальной зависимости."
   ]
  },
  {
   "cell_type": "code",
   "execution_count": null,
   "id": "75433b87",
   "metadata": {},
   "outputs": [],
   "source": [
    "ald = explainer.model_profile(type = 'accumulated', N=800)\n",
    "\n",
    "ald.plot(variables = ['age', 'movement_reactions'])"
   ]
  },
  {
   "cell_type": "markdown",
   "id": "2e1595fb",
   "metadata": {},
   "source": [
    "Мы видели лишь несколько примеров. Пожалуйста, не стесняйтесь исследовать больше.\n",
    "\n",
    "Далее мы будем использовать DALEX для локальных объяснений или объяснений на уровне прогнозирования. Мы будем использовать два подхода, предоставляемые DALEX - Interactive Breakdown и SHAP."
   ]
  },
  {
   "cell_type": "code",
   "execution_count": null,
   "id": "e8998b4d",
   "metadata": {},
   "outputs": [],
   "source": [
    "prediction_level = {'interactive_breakdown':[], 'shap':[]}\n",
    "\n",
    "for name in ['Cristiano Ronaldo', 'L. Messi', 'J. Sancho']:\n",
    "    player = df_test[df_test['short_name'] == name].copy()\n",
    "    player.drop(columns=['short_name', \n",
    "                          'club_name', \n",
    "                          'league_name', \n",
    "                          'preferred_foot', \n",
    "                          'wage_eur', \n",
    "                          'club_position'], inplace=True)\n",
    "    player.drop(columns=['goalkeeping_speed'], inplace=True)\n",
    "    player.drop(columns=[target_variable], inplace=True)\n",
    "    for features in ['pace', 'shooting', 'passing', 'dribbling', 'defending', 'physic']:\n",
    "            player[features].fillna(40, inplace=True)\n",
    "            \n",
    "    ibd = explainer.predict_parts(player, type='break_down_interactions', label=name)\n",
    "    sh = explainer.predict_parts(player, type='shap', B=10, label=name)\n",
    "    \n",
    "    prediction_level['interactive_breakdown'].append(ibd)\n",
    "    prediction_level['shap'].append(sh)"
   ]
  },
  {
   "cell_type": "markdown",
   "id": "238d33a6",
   "metadata": {},
   "source": [
    "Разбейте взаимодействия для локального объяснения прогнозируемой оценки для трех лучших футболистов мира - Криштиану Роналду, Лионеля Месси и Джейдона Санчо."
   ]
  },
  {
   "cell_type": "code",
   "execution_count": null,
   "id": "f1678430",
   "metadata": {},
   "outputs": [],
   "source": [
    "prediction_level['interactive_breakdown'][0].plot(prediction_level['interactive_breakdown'][1:3],\n",
    "                  rounding_function=lambda x, \n",
    "                  digits: np.rint(x, digits).astype(np.int),\n",
    "                  digits=None, \n",
    "                  max_vars=15)"
   ]
  },
  {
   "cell_type": "markdown",
   "id": "d3ab8a5c",
   "metadata": {},
   "source": [
    "Функция SHAP важна для локального объяснения прогнозируемой оценки трех лучших футболистов мира - Криштиану Роналду, Лионеля Месси и Джейдона Санчо."
   ]
  },
  {
   "cell_type": "code",
   "execution_count": null,
   "id": "dcbe1ef7",
   "metadata": {},
   "outputs": [],
   "source": [
    "prediction_level['shap'][0].plot(prediction_level['shap'][1:3],\n",
    "                 rounding_function=lambda x, \n",
    "                 digits: np.rint(x, digits).astype(np.int),\n",
    "                 digits=None, \n",
    "                 max_vars=15)"
   ]
  },
  {
   "cell_type": "markdown",
   "id": "b3783602",
   "metadata": {},
   "source": [
    "Было очень интересно узнать, что как для Криштиану Роналду, так и для Лионеля Месси, хотя они обладают высочайшими способностями и, бесспорно, являются лучшими футболистами в мире, DALEX смог определить, что оба они стареют, и, следовательно, возраст персонажа негативно влияет на прогноз модели, тем самым снижая их прогнозируемый уровень. ценность оценки. Напротив, поскольку Джейдон Санчо - молодой талант, возраст влияет положительно и пытается увеличить прогнозируемую оценку игрока. Это абсолютно логично, и, следовательно, предоставленное местное объяснение очень уместно!\n",
    "\n",
    "Далее давайте рассмотрим профили при прочих равных условиях с использованием DALEX. При прочих равных условиях профили помогают нам выполнять анализ \"Что, если\" и показывают, как изменится прогноз модели, если изменится значение отдельного признака, что больше похоже на анализ чувствительности, описанный в главе 2."
   ]
  },
  {
   "cell_type": "code",
   "execution_count": null,
   "id": "22399aa2",
   "metadata": {},
   "outputs": [],
   "source": [
    "ceteris_paribus_profile = explainer.predict_profile(player,\n",
    "                               variables=['age', 'potential'],\n",
    "                               label=name) # variables to calculate \n",
    "\n",
    "ceteris_paribus_profile.plot(size=3, title= f\"What If? {name}\") # larger width of the line and dot size & change title"
   ]
  },
  {
   "cell_type": "markdown",
   "id": "620a7b19",
   "metadata": {},
   "source": [
    "Как мы можем видеть из приведенных выше графиков, для Джейдона Санчо по мере его старения модель предсказывает падение его оценки. Но если его потенциальные способности увеличиваются, его оценка также может увеличиться (как показано на правой диаграмме).\n",
    "\n",
    "Проверка справедливости модели - еще одна важная функция DALEX. Давайте посмотрим, свободна ли наша модель от каких-либо предубеждений и справедлива ли она! Для получения более подробной информации о проверке справедливости модели с помощью DALEX, пожалуйста, обратитесь к этому - https://dalex.drwhy.ai/python-dalex-fairness.html .\n",
    "\n",
    "Давайте создадим защищенную переменную и привилегированную переменную для проверки справедливости. Мы проведем эту проверку справедливости для трех разных групп игроков в зависимости от их возраста. Все игроки младше 20 лет считались \"молодежными\" игроками, игроки в возрасте от 20 до 30 лет считались развивающимися игроками, а игроки старше 30 лет считались \"развитыми\" игроками. Теперь давайте проверим нашу честность с помощью DALEX."
   ]
  },
  {
   "cell_type": "code",
   "execution_count": null,
   "id": "1274c8c4",
   "metadata": {},
   "outputs": [],
   "source": [
    "protected = np.where(x_valid.age < 30, np.where(x_valid.age < 20, 'youth', 'developing'), 'developed')\n",
    "\n",
    "privileged = 'youth'"
   ]
  },
  {
   "cell_type": "code",
   "execution_count": null,
   "id": "028de7da",
   "metadata": {},
   "outputs": [],
   "source": [
    "fairness = explainer.model_fairness(protected = protected, privileged=privileged)\n",
    "fairness.fairness_check(epsilon = 0.7)"
   ]
  },
  {
   "cell_type": "code",
   "execution_count": null,
   "id": "a0b469e9",
   "metadata": {},
   "outputs": [],
   "source": [
    "fairness.result"
   ]
  },
  {
   "cell_type": "code",
   "execution_count": null,
   "id": "3e93d00b",
   "metadata": {},
   "outputs": [],
   "source": [
    "fairness.plot(type = 'density')"
   ]
  },
  {
   "cell_type": "markdown",
   "id": "9ae2e942",
   "metadata": {},
   "source": [
    "К счастью, смещения не обнаружено, и наша модель кажется справедливой, учитывая нашу привилегированную переменную. Для этой проблемы, возможно, предвзятость и справедливость не так критичны, но DALEX действительно является очень хорошей основой для рассмотрения предвзятости и справедливости в моделях.\n",
    "\n",
    "Степень объяснимости часто возрастает по мере взаимодействия с пользователем. У ДАЛЕКСОВ есть такая возможность использовать АРЕНУ - https://dalex.drwhy.ai/python-dalex-arena.html , что позволяет нам создавать интерактивную панель мониторинга с различными аспектами объяснимости модели с помощью DALEX."
   ]
  },
  {
   "cell_type": "code",
   "execution_count": null,
   "id": "37cb693e",
   "metadata": {},
   "outputs": [],
   "source": [
    "arena_dataset = df_test[:400].set_index('short_name')"
   ]
  },
  {
   "cell_type": "code",
   "execution_count": null,
   "id": "c11b2110",
   "metadata": {},
   "outputs": [],
   "source": [
    "# create empty Arena\n",
    "arena = dx.Arena()\n",
    "# push created explainer\n",
    "arena.push_model(explainer)\n",
    "# push whole test dataset (including target column)\n",
    "arena.push_observations(arena_dataset)\n",
    "# run server on port 9294\n",
    "arena.run_server(port=9294)"
   ]
  },
  {
   "cell_type": "code",
   "execution_count": null,
   "id": "b1463530",
   "metadata": {},
   "outputs": [],
   "source": [
    "arena.print_options()"
   ]
  },
  {
   "cell_type": "code",
   "execution_count": null,
   "id": "87cc18f5",
   "metadata": {},
   "outputs": [],
   "source": [
    "arena.stop_server()"
   ]
  },
  {
   "cell_type": "code",
   "execution_count": null,
   "id": "bb0235d9",
   "metadata": {},
   "outputs": [],
   "source": [
    "Перейдите к https://arena .drwhy.ai/?data=http://127.0.0.1:9294 / для панели управления Ареной. Вы можете использовать json Arena config, используемый для этого руководства, из https://raw.githubusercontent.com/PacktPublishing/Applied-Machine-Learning-Explainability-Techniques/main/Chapter09/dalex_sessions/session-1647894542387.json. Не стесняйтесь создавать и проектировать интерактивную панель мониторинга с помощью Arena от DALEX."
   ]
  },
  {
   "cell_type": "markdown",
   "id": "6b82395c",
   "metadata": {},
   "source": [
    "DALEX очень надежен! В нем рассматриваются различные аспекты объяснимости, от набора данных до моделей, от локальной объяснимости до глобальной объяснимости, и он не зависит от модели! Есть еще много примеров, доступных по адресу - https://github.com/ModelOriented/DALEX , пожалуйста, изучите их все. Но DALEX, похоже, ограничен структурированными данными. Я думаю, что в будущем, если сделать DALEX легко применимым к изображениям и текстовым данным, это увеличит его распространение в сообществе исследователей искусственного интеллекта."
   ]
  },
  {
   "cell_type": "code",
   "execution_count": null,
   "id": "7a0973e3",
   "metadata": {},
   "outputs": [],
   "source": []
  }
 ],
 "metadata": {
  "kernelspec": {
   "display_name": "Python 3 (ipykernel)",
   "language": "python",
   "name": "python3"
  },
  "language_info": {
   "codemirror_mode": {
    "name": "ipython",
    "version": 3
   },
   "file_extension": ".py",
   "mimetype": "text/x-python",
   "name": "python",
   "nbconvert_exporter": "python",
   "pygments_lexer": "ipython3",
   "version": "3.9.12"
  }
 },
 "nbformat": 4,
 "nbformat_minor": 5
}

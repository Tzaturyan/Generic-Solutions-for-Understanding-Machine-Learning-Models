{
 "cells": [
  {
   "cell_type": "code",
   "execution_count": 2,
   "id": "f49a62fc",
   "metadata": {},
   "outputs": [
    {
     "name": "stderr",
     "output_type": "stream",
     "text": [
      "Matplotlib is building the font cache; this may take a moment.\n"
     ]
    }
   ],
   "source": [
    "import pandas as pd\n",
    "import matplotlib.pyplot as plt"
   ]
  },
  {
   "cell_type": "markdown",
   "id": "3b85df9d",
   "metadata": {},
   "source": [
    "Извлечем и визуализируем наши временные ряды"
   ]
  },
  {
   "cell_type": "code",
   "execution_count": null,
   "id": "c110b5ca",
   "metadata": {},
   "outputs": [],
   "source": [
    "def retrieve_time_series(api, series_ID):\n",
    "    #Retrieve Data By Series ID \n",
    "    series_search = api.data_by_series(series=series_ID)\n",
    "    ##Create a pandas dataframe from the retrieved time series\n",
    "    df = pd.DataFrame(series_search)\n",
    "    return df"
   ]
  },
  {
   "cell_type": "code",
   "execution_count": null,
   "id": "d41c117d",
   "metadata": {},
   "outputs": [],
   "source": [
    "def plot_data(df, x_variable, y_variable, title):\n",
    "    fig, ax = plt.subplots()\n",
    "    ax.plot_date(df[x_variable], \n",
    "                 df[y_variable], marker='', linestyle='-', label=y_variable)\n",
    "    fig.autofmt_xdate()\n",
    "    plt.title(title)\n",
    "    plt.show()"
   ]
  },
  {
   "cell_type": "code",
   "execution_count": null,
   "id": "91520e90",
   "metadata": {},
   "outputs": [],
   "source": [
    "#Create EIA API using your specific API key\n",
    "api_key = \"YOUR EIA API KEY HERE\"\n",
    "api = eia.API(api_key)\n",
    "#Declare desired series ID\n",
    "series_ID='TOTAL.GEEGPUS.M'\n",
    "df = retrieve_time_series(api, series_ID)\n",
    "df.reset_index(level=0, inplace=True)\n",
    "df.rename(columns={'index':'Date',\n",
    "                   df.columns[1]:'Geothermal_net_generation'}, inplace=True)\n",
    "#Convert the Date column into a date object\n",
    "df['Date'] = df['Date'].str.rstrip()\n",
    "df['Date'] = df['Date'].str.replace(' ', '-')\n",
    "df['Date']=pd.to_datetime(df['Date'], format='%Y-%m')\n",
    "#Plot the time series\n",
    "plot_data(df, 'Date', \n",
    "          'Geothermal_net_generation', \n",
    "          'Net Generation for Geothermal over Time')"
   ]
  },
  {
   "cell_type": "markdown",
   "id": "7df423a2",
   "metadata": {},
   "source": [
    "Прежде чем мы создадим модель SARIMA, разложим временные ряды, чтобы убедиться, что они отображают сезонность. Мы используем функцию seasonal_decompose, доступную через пакет statsmodels.tsa. Эта функция позволяет нам разбивать временные ряды на трендовые, сезонные и остаточные компоненты:"
   ]
  },
  {
   "cell_type": "code",
   "execution_count": null,
   "id": "97793d96",
   "metadata": {},
   "outputs": [],
   "source": [
    "from statsmodels.tsa.seasonal import seasonal_decompose\n",
    "\n",
    "def decompose_time_series(series, frequency):\n",
    "    \"\"\"\n",
    "    Decompose a time series and plot it in the console\n",
    "    Arguments: \n",
    "        series: series. Time series that we want to decompose\n",
    "    Outputs: \n",
    "        Decomposition plot in the console\n",
    "    \"\"\"\n",
    "    result = seasonal_decompose(series, model='additive', freq = frequency)\n",
    "    result.plot()\n",
    "    plt.show()\n",
    "\n",
    "### EXECUTE IN MAIN FUNCTION ###\n",
    "#Decompose the time series to determine seasonality/trend\n",
    "decompose_time_series(df['Geothermal_net_generation'], 12)"
   ]
  },
  {
   "cell_type": "markdown",
   "id": "46c8ba43",
   "metadata": {},
   "source": [
    "Давайте сначала разделим наши данные на обучающие и тестовые наборы. Таким образом, мы можем построить нашу модель с использованием обучающего набора и оценить ее производительность с использованием тестовых данных:"
   ]
  },
  {
   "cell_type": "code",
   "execution_count": null,
   "id": "f34cbe00",
   "metadata": {},
   "outputs": [],
   "source": [
    "def time_series_train_test_split(time_series, train_split_fraction):\n",
    "    \"\"\"\n",
    "    Split the data into training and test set.\n",
    "    \"\"\"\n",
    "    split_index = int(round(time_series.shape[0]*train_split_fraction, 0))\n",
    "    train_set = time_series[:split_index]\n",
    "    test_set = time_series[:-split_index]\n",
    "    return train_set, test_set\n",
    "\n",
    "### EXECUTE IN MAIN FUNCTION ###\n",
    "training_set, test_set = time_series_train_test_split(time_series = df['Geothermal_net_generation'], \n",
    "                                                      train_split_fraction = .75)"
   ]
  },
  {
   "cell_type": "markdown",
   "id": "bfdb393c",
   "metadata": {},
   "source": [
    "Построим нашу модель SARIMA. Мы перебираем каждую из возможных конфигураций гиперпараметров, генерируя модель SARIMA. Мы используем параметры AIC для каждой возможной модели для оценки производительности модели. Нам нужна модель с наименьшими оценками AIC:"
   ]
  },
  {
   "cell_type": "code",
   "execution_count": null,
   "id": "7d5903d7",
   "metadata": {},
   "outputs": [],
   "source": [
    "def seasonal_arima_model(time_series, order, seasonal_order, trend):\n",
    "    \"\"\"\n",
    "    Generate a seasonal ARIMA model using a set of hyperparameters. Returns the model fit, and the \n",
    "    associated model AIC and BIC values.\n",
    "    \"\"\" \n",
    "    try:\n",
    "        model = sm_api.tsa.SARIMAX(time_series, \n",
    "                                   order=order, \n",
    "                                   seasonal_order=seasonal_order, \n",
    "                                   trend = trend,\n",
    "                                   enforce_stationarity=False, \n",
    "                                   enforce_invertibility=False)\n",
    "        model_fit = model.fit()\n",
    "        #Print the model results\n",
    "        print(model_fit.summary())\n",
    "        return model_fit, model_fit.aic, model_fit.bic\n",
    "    except:\n",
    "        print(\"Could not fit with the designated model parameters\")\n",
    "        return None, None, None\n",
    "\n",
    "### EXECUTE IN MAIN FUNCTION ###\n",
    "lowest_aic_val = 100000000000\n",
    "#Generate  model for each of hyperparameter combination in a loop\n",
    "for order_combo in order_combos:\n",
    "    for seasonal_order_combo in seasonal_order_combos:\n",
    "        #Convert the combination to list format\n",
    "        seasonal_order_combo = list(seasonal_order_combo)\n",
    "        #Generate the SARIMA model\n",
    "        model_fit, model_aic, model_bic = seasonal_arima_model(time_series = training_set, \n",
    "                                                    order = order_combo, \n",
    "                                                    seasonal_order = seasonal_order_combo[0:4],\n",
    "                                                    trend = seasonal_order_combo[-1])\n",
    "        #Test model performance, and keep running tab of best performing model\n",
    "        #Set with the newest value if the lowest_aic_value hasn't yet been calculated (on first run),\n",
    "        #or if the newly calculated model AIC is lower than the lowest calculated AIC value\n",
    "        if (model_aic < lowest_aic_val):\n",
    "            lowest_aic_val = model_aic\n",
    "            best_model = model_fit\n",
    "            best_order = order_combo\n",
    "            best_seasonal_order = seasonal_order_combo\n",
    "#Print the best model parameters after the \n",
    "print(\"Best model paramaters: order-- \", best_order, \", seasonal order-- \", best_seasonal_order)"
   ]
  },
  {
   "cell_type": "markdown",
   "id": "d5b7feab",
   "metadata": {},
   "source": [
    "Глядя на термин ‘P> abs (z)’ на графике, все переменные считываются как 0. Это здорово, так как мы хотим, чтобы наши значения P были как можно ближе к 0. Используя отсечение <0,05 для статистической значимости, все наши запаздывающие термины AR и MA значительно влияют на прогноз модели."
   ]
  },
  {
   "cell_type": "markdown",
   "id": "e29a884e",
   "metadata": {},
   "source": [
    "В приведенном ниже фрагменте кода мы прогнозируем значения для набора тестов, прогнозируя общее количество шагов, которые присутствуют в нашем наборе тестов. Затем мы сравниваем прогнозируемые значения с фактическими значениями, используя показатели среднеквадратичной ошибки (RMSE) и средней абсолютной ошибки (MAE). Чем ниже оценки RMSE и MAE, тем лучше подходит модель. Если прогнозируемые значения точно соответствуют фактическим значениям, оба RMSE и MAE равны 0."
   ]
  },
  {
   "cell_type": "code",
   "execution_count": null,
   "id": "57ca2452",
   "metadata": {},
   "outputs": [],
   "source": [
    "def fit_predictions(model_fit, steps_out_to_predict, actual_values):\n",
    "    \"\"\"\n",
    "    This function predicts the SARIMA model out a certain designated number of steps,\n",
    "    and compares the predictions to the actual values. The root mean squared error and\n",
    "    the mean absolute error are calculated, comparing the predicted and actual values.\n",
    "    The function returns the predicted values and their respective confidence intervals.\n",
    "    Args:\n",
    "        model_fit:  SARIMA model.\n",
    "        steps_out_to_predict: Int. Number of steps out to predict the time series.\n",
    "        actual_values: Series of actual time series values.\n",
    "    Outputs:\n",
    "        mean_predicted_values: Series of predicted time series values.\n",
    "        confidence_interval_predicted_values: Dataframe, containing upper and lower thresholds of the\n",
    "        confidence interval\n",
    "    \"\"\"\n",
    "    predicted_values = model_fit.get_forecast(steps=steps_out_to_predict)\n",
    "    mean_predicted_values = predicted_values.predicted_mean\n",
    "    confidence_interval_predicted_values = predicted_values.conf_int()\n",
    "    #Compare the actual to the predicted values using RMSE and MAE metrics\n",
    "    rmse, mae = quantify_rmse_mae(mean_predicted_values, actual_values)\n",
    "    print(\"Root mean squared error: \", str(rmse))\n",
    "    print(\"Mean absolute error: \", str(mae))\n",
    "    return mean_predicted_values, confidence_interval_predicted_values\n",
    "    \n",
    "def quantify_rmse_mae(predicted_values, actual_values):\n",
    "    \"\"\"\n",
    "    This function calculates the root mean squared error and mean absolute error for \n",
    "    the predicted values, when compared to the actual values. These helps help us to\n",
    "    gauge model performance. \n",
    "    Args:\n",
    "        predicted_values: Series of predicted time series values.\n",
    "        actual_values: Corresponding series of actual time series values.\n",
    "    Outputs:\n",
    "        rmse: Float. Root mean squared error.\n",
    "        mae: Float. Mean absolute error.\n",
    "    \"\"\"\n",
    "    #calcuate the mean squared error of the model\n",
    "    rmse = math.sqrt(mean_squared_error(actual_values, predicted_values))\n",
    "    #Calculate the mean absolute error of the model \n",
    "    mae = mean_absolute_error(actual_values, predicted_values)\n",
    "    #Return the MSE and MAE for the model\n",
    "    return rmse, mae\n",
    "  \n",
    "### EXECUTE IN THE MAIN FUNCTION ###\n",
    "#Run the data on the test set to gauge model performance\n",
    "mean_predicted_values, confidence_interval_predicted_values = fit_predictions(best_model, \n",
    "                                                                              len(test_set), \n",
    "                                                                              test_set)"
   ]
  },
  {
   "cell_type": "markdown",
   "id": "6e902836",
   "metadata": {},
   "source": [
    "При выполнении приведенного выше фрагмента кода выводимые значения RMSE и MAE для модели составляют приблизительно 868 и 860 соответственно.\n",
    "После вычисления показателей RMSE и MAE мы сопоставляем прогнозируемые значения с фактическими значениями. Это дает нам наглядную оценку производительности модели:"
   ]
  },
  {
   "cell_type": "code",
   "execution_count": null,
   "id": "694969bc",
   "metadata": {},
   "outputs": [],
   "source": [
    "def plot_results(mean_predicted_values, confidence_interval_predicted_values, time_series):\n",
    "    \"\"\"\n",
    "    This function plots actual time series data against SARIMA model-predicted values. \n",
    "    We include the confidence interval for the predictions. \n",
    "    Args:\n",
    "        mean_predicted_values: Series of float values. The model-predicted values.\n",
    "        confidence_interval_predicted_values: Pandas dataframe, containing the lower and\n",
    "        upper confidence intervals.\n",
    "        time_series: Series of float values. Actual time series values that we want to graph\n",
    "    Outputs:\n",
    "        None. Plot of the time series values, as well as the predicted values and associated \n",
    "        confidence interval.\n",
    "    \"\"\"\n",
    "    ax = time_series.plot(label='Observed')\n",
    "    mean_predicted_values.plot(ax=ax, label = 'Forecast', alpha=.7, figsize=(14, 4))\n",
    "    ax.fill_between(confidence_interval_predicted_values.index,\n",
    "                    confidence_interval_predicted_values.iloc[:, 0],\n",
    "                    confidence_interval_predicted_values.iloc[:, 1], color='k', alpha=.2)\n",
    "    ax.set_xlabel('Date Index')\n",
    "    ax.set_ylabel('Value')\n",
    "    plt.legend()\n",
    "    plt.show()\n",
    "\n",
    "### EXECUTE IN MAIN FUNCTION ###\n",
    "#Plot the predictions against the real data\n",
    "plot_results(mean_predicted_values, \n",
    "             confidence_interval_predicted_values, \n",
    "             df['Geothermal_net_generation'][400:])"
   ]
  },
  {
   "cell_type": "markdown",
   "id": "1118a9b8",
   "metadata": {},
   "source": [
    "Судя по приведенному выше графику, модель отлично справляется с прогнозированием временных рядов на 140 временных шагов."
   ]
  }
 ],
 "metadata": {
  "kernelspec": {
   "display_name": "Python 3 (ipykernel)",
   "language": "python",
   "name": "python3"
  },
  "language_info": {
   "codemirror_mode": {
    "name": "ipython",
    "version": 3
   },
   "file_extension": ".py",
   "mimetype": "text/x-python",
   "name": "python",
   "nbconvert_exporter": "python",
   "pygments_lexer": "ipython3",
   "version": "3.9.12"
  }
 },
 "nbformat": 4,
 "nbformat_minor": 5
}

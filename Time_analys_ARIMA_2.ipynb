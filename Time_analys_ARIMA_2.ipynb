{
 "cells": [
  {
   "cell_type": "code",
   "execution_count": null,
   "id": "69d76847",
   "metadata": {},
   "outputs": [],
   "source": [
    "import warnings\n",
    "import itertools\n",
    "import numpy as np\n",
    "import matplotlib.pyplot as plt\n",
    "warnings.filterwarnings(\"ignore\")\n",
    "plt.style.use('fivethirtyeight')\n",
    "import pandas as pd\n",
    "import statsmodels.api as sm\n",
    "import matplotlib\n",
    "matplotlib.rcParams['axes.labelsize'] = 14\n",
    "matplotlib.rcParams['xtick.labelsize'] = 12\n",
    "matplotlib.rcParams['ytick.labelsize'] = 12\n",
    "matplotlib.rcParams['text.color'] = 'G'\n",
    "df = pd.read_excel(\"Retail2.xlsx\")"
   ]
  },
  {
   "cell_type": "code",
   "execution_count": null,
   "id": "17798663",
   "metadata": {},
   "outputs": [],
   "source": [
    "y = df.set_index(['Date'])\n",
    "y.head(5)"
   ]
  },
  {
   "cell_type": "code",
   "execution_count": null,
   "id": "ce2d405b",
   "metadata": {},
   "outputs": [],
   "source": [
    "y.plot(figsize=(19, 4))\n",
    "plt.show()"
   ]
  },
  {
   "cell_type": "code",
   "execution_count": null,
   "id": "7de2c3fd",
   "metadata": {},
   "outputs": [],
   "source": [
    "from pylab import rcParams\n",
    "rcParams['figure.figsize'] = 18, 8\n",
    "decomposition = sm.tsa.seasonal_decompose(y, model='additive')\n",
    "fig = decomposition.plot()\n",
    "plt.show()"
   ]
  },
  {
   "cell_type": "markdown",
   "id": "ba42fb4f",
   "metadata": {},
   "source": [
    "Давайте использовать SARIMA. Обозначения моделей SARIMA(p, d, q).(P,D,Q)m. Эти три параметра учитывают сезонность, тенденцию и шум в данных"
   ]
  },
  {
   "cell_type": "code",
   "execution_count": null,
   "id": "4491d8ca",
   "metadata": {},
   "outputs": [],
   "source": [
    "p = d = q = range(0, 2)\n",
    "pdq = list(itertools.product(p, d, q))\n",
    "seasonal_pdq = [(x[0], x[1], x[2], 12) for x in list(itertools.product(p, d, q))]\n",
    "print('Examples of parameter for SARIMA...')\n",
    "print('SARIMAX: {} x {}'.format(pdq[1], seasonal_pdq[1]))\n",
    "print('SARIMAX: {} x {}'.format(pdq[1], seasonal_pdq[2]))\n",
    "print('SARIMAX: {} x {}'.format(pdq[2], seasonal_pdq[3]))\n",
    "print('SARIMAX: {} x {}'.format(pdq[2], seasonal_pdq[4]))"
   ]
  },
  {
   "cell_type": "code",
   "execution_count": null,
   "id": "2426c35b",
   "metadata": {},
   "outputs": [],
   "source": [
    "for param in pdq:\n",
    "for param_seasonal in seasonal_pdq:\n",
    "    try:\n",
    "    mod = sm.tsa.statespace.SARIMAX(y,order=param,seasonal_order=param_seasonal,enforce_stationarity=False,enforce_invertibility=False)\n",
    "    results = mod.fit()\n",
    "    print('ARIMA{}x{}12 - AIC:{}'.format(param,param_seasonal,results.aic))\n",
    "    except: \n",
    "continue"
   ]
  },
  {
   "cell_type": "markdown",
   "id": "31071db8",
   "metadata": {},
   "source": [
    "AIC (Информационный критерий Akaike) - это оценка относительного качества статистика модели для заданного набора данных. Дан набор моделей для данных, AIC оценивает качество каждой модели относительно каждой из других моделей. Низкий AIC цените лучшее. Наш вывод предполагает, что SARIMAX(0, 0, 1)x(1, 1, 1, 12)AIC значение 223,43 - лучшая комбинация, поэтому мы должны считать это оптимальным вариантом."
   ]
  },
  {
   "cell_type": "code",
   "execution_count": null,
   "id": "4e5a7d36",
   "metadata": {},
   "outputs": [],
   "source": [
    "mod = sm.tsa.statespace.SARIMAX(y,\n",
    " order=(0, 0, 1),\n",
    " seasonal_order=(1, 1, 1, 12),\n",
    " enforce_stationarity=False,\n",
    " enforce_invertibility=False)\n",
    "results = mod.fit()\n",
    "print(results.summary().tables[1])"
   ]
  },
  {
   "cell_type": "code",
   "execution_count": null,
   "id": "c4cdd2e2",
   "metadata": {},
   "outputs": [],
   "source": [
    "results.plot_diagnostics(figsize=(18, 8))\n",
    "plt.show()"
   ]
  },
  {
   "cell_type": "markdown",
   "id": "b75b629d",
   "metadata": {},
   "source": [
    "С помощью приведенной выше диагностики мы можем визуализировать важную информацию в виде распределения и функции автоматической корреляции ACF (коррелограммы). Значения вверх “0” имеют некоторую корреляцию с данными временных рядов. Значения, близкие к “1”, демонстрируют самую сильную корреляцию."
   ]
  },
  {
   "cell_type": "code",
   "execution_count": null,
   "id": "9212b666",
   "metadata": {},
   "outputs": [],
   "source": [
    "pred = results.get_prediction(start=pd.to_datetime('2018-06-01'), dynamic=False)\n",
    "pred_ci = pred.conf_int()\n",
    "ax = y['2015':].plot(label='наблюдается')\n",
    "pred.predicted_mean.plot(ax= ax, label= 'Прогноз на один шаг вперед', alpha = .7, figsize=(14, 4))\n",
    "ax.fill_between(pred_ci.index,\n",
    " pred_ci.iloc[:, 0],\n",
    " pred_ci.iloc[:, 1], color= 'k', alpha =.2)\n",
    "ax.set_xlabel('Дата')\n",
    "ax.set_ylabel('Retail_sold')\n",
    "plt.legend()\n",
    "plt.show()"
   ]
  },
  {
   "cell_type": "markdown",
   "id": "abe12b6b",
   "metadata": {},
   "source": [
    "Этот шаг состоит в сравнении истинных значений с прогнозируемыми прогнозами. Наши прогнозы очень хорошо соответствуют истинным значениям. Команда “pred = results.get_prediction(start= pd.to_datetime(‘2018-06-01’)” определяет период, который вы бы прогнозировали при сравнении с истинными данными."
   ]
  },
  {
   "cell_type": "code",
   "execution_count": null,
   "id": "e1bd91e4",
   "metadata": {},
   "outputs": [],
   "source": [
    "y_forecasted = pred.predicted_mean\n",
    "y_truth = y['2018-06-01':]\n",
    "mse = ((y_forecasted - y_truth) ** 2).mean()\n",
    "print('The Mean Squared Error is {}'.format(round(mse, 2)))\n",
    "print('The Root Mean Squared Error is {}'.format(round(np.sqrt(mse), 2)))"
   ]
  },
  {
   "cell_type": "code",
   "execution_count": null,
   "id": "a52f725f",
   "metadata": {},
   "outputs": [],
   "source": [
    "pred_uc = results.get_forecast(steps=12)\n",
    "pred_ci = pred_uc.conf_int()\n",
    "ax = y.plot(label='observed', figsize=(14, 4))\n",
    "pred_uc.predicted_mean.plot(ax=ax, label='Forecast')\n",
    "ax.fill_between(pred_ci.index,\n",
    " pred_ci.iloc[:, 0],\n",
    " pred_ci.iloc[:, 1], color='k', alpha=.25)\n",
    "ax.set_xlabel('Date')\n",
    "ax.set_ylabel('Sales')\n",
    "plt.legend()\n",
    "plt.show()"
   ]
  },
  {
   "cell_type": "code",
   "execution_count": null,
   "id": "76041635",
   "metadata": {},
   "outputs": [],
   "source": [
    "pred_uc = results.get_forecast(steps=12)\n",
    "pred_ci = pred_uc.conf_int()\n",
    "ax = y.plot(label='observed', figsize=(14, 4))\n",
    "pred_uc.predicted_mean.plot(ax=ax, label='Forecast')\n",
    "ax.fill_between(pred_ci.index,\n",
    " pred_ci.iloc[:, 0],\n",
    " pred_ci.iloc[:, 1], color='k', alpha=.25)\n",
    "ax.set_xlabel('Date')\n",
    "ax.set_ylabel('Sales')\n",
    "plt.legend()\n",
    "plt.show()"
   ]
  },
  {
   "cell_type": "markdown",
   "id": "5b2e6385",
   "metadata": {},
   "source": [
    "Здесь мы прогнозируем продажи на следующие 12 месяцев. Этот параметр можно изменить в строке “pred_uc = results.get_forecast(шаги = 12)” кода."
   ]
  },
  {
   "cell_type": "code",
   "execution_count": null,
   "id": "15a27efa",
   "metadata": {},
   "outputs": [],
   "source": [
    "y_forecasted = pred.predicted_mean\n",
    "y_forecasted.head(12)"
   ]
  },
  {
   "cell_type": "code",
   "execution_count": null,
   "id": "74df20e7",
   "metadata": {},
   "outputs": [],
   "source": [
    "y_truth.head(12)"
   ]
  },
  {
   "cell_type": "code",
   "execution_count": null,
   "id": "00ec416a",
   "metadata": {},
   "outputs": [],
   "source": [
    "pred_ci.глава(24)"
   ]
  },
  {
   "cell_type": "code",
   "execution_count": null,
   "id": "f4baa908",
   "metadata": {},
   "outputs": [],
   "source": [
    "forecast = pred_uc.predicted_mean\n",
    "forecast.head(12)"
   ]
  },
  {
   "cell_type": "markdown",
   "id": "fd8b2628",
   "metadata": {},
   "source": [
    "Наконец, здесь у нас есть прогноз продаж на следующие 12 месяцев!"
   ]
  }
 ],
 "metadata": {
  "kernelspec": {
   "display_name": "Python 3 (ipykernel)",
   "language": "python",
   "name": "python3"
  },
  "language_info": {
   "codemirror_mode": {
    "name": "ipython",
    "version": 3
   },
   "file_extension": ".py",
   "mimetype": "text/x-python",
   "name": "python",
   "nbconvert_exporter": "python",
   "pygments_lexer": "ipython3",
   "version": "3.9.12"
  }
 },
 "nbformat": 4,
 "nbformat_minor": 5
}
